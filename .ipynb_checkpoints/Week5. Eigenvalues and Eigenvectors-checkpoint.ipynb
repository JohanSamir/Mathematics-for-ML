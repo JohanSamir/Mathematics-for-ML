{
 "cells": [
  {
   "cell_type": "markdown",
   "metadata": {},
   "source": [
    "## Eigenvalues and Eigenvectors"
   ]
  },
  {
   "cell_type": "code",
   "execution_count": 6,
   "metadata": {
    "code_folding": []
   },
   "outputs": [
    {
     "data": {
      "text/plain": [
       "array([1., 2., 3.])"
      ]
     },
     "execution_count": 6,
     "metadata": {},
     "output_type": "execute_result"
    }
   ],
   "source": [
    "# Eigenvalues\n",
    "M = np.array([[1, 0, 0],\n",
    "              [0, 2, 0],\n",
    "              [0, 0, 3]])\n",
    "vals, vecs = np.linalg.eig(M)\n",
    "vals"
   ]
  },
  {
   "cell_type": "code",
   "execution_count": 5,
   "metadata": {},
   "outputs": [
    {
     "data": {
      "text/plain": [
       "array([[1., 0., 0.],\n",
       "       [0., 1., 0.],\n",
       "       [0., 0., 1.]])"
      ]
     },
     "execution_count": 5,
     "metadata": {},
     "output_type": "execute_result"
    }
   ],
   "source": [
    "# Eigenvectors - Note, the eigenvectors are the columns of the output.\n",
    "M = np.array([[1, 0, 0],\n",
    "              [0, 2, 0],\n",
    "              [0, 0, 3]])\n",
    "vals, vecs = np.linalg.eig(M)\n",
    "vecs\n"
   ]
  },
  {
   "cell_type": "code",
   "execution_count": 11,
   "metadata": {},
   "outputs": [
    {
     "name": "stdout",
     "output_type": "stream",
     "text": [
      "A: [[ 4.  -5.   6. ]\n",
      " [ 7.  -8.   6. ]\n",
      " [ 1.5 -0.5 -2. ]]\n"
     ]
    },
    {
     "data": {
      "text/plain": [
       "array([[-0.6882472 , -0.66666667,  0.40824829],\n",
       "       [-0.6882472 , -0.66666667, -0.40824829],\n",
       "       [-0.22941573,  0.33333333, -0.81649658]])"
      ]
     },
     "execution_count": 11,
     "metadata": {},
     "output_type": "execute_result"
    }
   ],
   "source": [
    "A = np.array([[4,-5,6],[7,-8,6],[3/2,-1/2,-2]])\n",
    "print('A:',A)\n",
    "#eigenvector\n",
    "vals, vecs = np.linalg.eig(A)\n",
    "vecs"
   ]
  },
  {
   "cell_type": "code",
   "execution_count": 16,
   "metadata": {},
   "outputs": [
    {
     "name": "stdout",
     "output_type": "stream",
     "text": [
      "vals [-1.00000000e+00+0.j  8.32667268e-17+1.j  8.32667268e-17-1.j\n",
      "  1.00000000e+00+0.j] \n",
      "vecs [[-5.00000000e-01+0.00000000e+00j  1.38777878e-16-5.00000000e-01j\n",
      "   1.38777878e-16+5.00000000e-01j -5.00000000e-01+0.00000000e+00j]\n",
      " [ 5.00000000e-01+0.00000000e+00j -5.00000000e-01+0.00000000e+00j\n",
      "  -5.00000000e-01-0.00000000e+00j -5.00000000e-01+0.00000000e+00j]\n",
      " [-5.00000000e-01+0.00000000e+00j -3.74700271e-16+5.00000000e-01j\n",
      "  -3.74700271e-16-5.00000000e-01j -5.00000000e-01+0.00000000e+00j]\n",
      " [ 5.00000000e-01+0.00000000e+00j  5.00000000e-01+1.52655666e-16j\n",
      "   5.00000000e-01-1.52655666e-16j -5.00000000e-01+0.00000000e+00j]] (4, 4)\n"
     ]
    }
   ],
   "source": [
    "A = np.array([[0,0,0,1],[1,0,0,0],[0,1,0,0],[0,0,1,0]])\n",
    "vals, vecs = np.linalg.eig(A)\n",
    "print('vals',vals,'\\nvecs',vecs,vecs.shape)"
   ]
  },
  {
   "cell_type": "code",
   "execution_count": 18,
   "metadata": {},
   "outputs": [
    {
     "name": "stdout",
     "output_type": "stream",
     "text": [
      "vals [ 1.00000000e+00+0. j -6.00000000e-01+0. j  4.85722573e-17+0.6j\n",
      "  4.85722573e-17-0.6j] \n",
      "vecs [[ 5.00000000e-01+0.00000000e+00j  5.00000000e-01+0.00000000e+00j\n",
      "   8.32667268e-17-5.00000000e-01j  8.32667268e-17+5.00000000e-01j]\n",
      " [ 5.00000000e-01+0.00000000e+00j -5.00000000e-01+0.00000000e+00j\n",
      "  -5.00000000e-01+0.00000000e+00j -5.00000000e-01-0.00000000e+00j]\n",
      " [ 5.00000000e-01+0.00000000e+00j  5.00000000e-01+0.00000000e+00j\n",
      "   3.05311332e-16+5.00000000e-01j  3.05311332e-16-5.00000000e-01j]\n",
      " [ 5.00000000e-01+0.00000000e+00j -5.00000000e-01+0.00000000e+00j\n",
      "   5.00000000e-01-8.32667268e-17j  5.00000000e-01+8.32667268e-17j]] (4, 4)\n"
     ]
    }
   ],
   "source": [
    "#If we replace the link matrix with the damped, L′\n",
    "\n",
    "A = np.array([[0.1,0.1,0.1,0.7],[0.7,0.1,0.1,0.1],[0.1,0.7,0.1,0.1],[0.1,0.1,0.7,0.1]])\n",
    "vals, vecs = np.linalg.eig(A)\n",
    "print('vals',vals,'\\nvecs',vecs,vecs.shape)"
   ]
  },
  {
   "cell_type": "code",
   "execution_count": 21,
   "metadata": {},
   "outputs": [
    {
     "name": "stdout",
     "output_type": "stream",
     "text": [
      "vals [ 1. -1.  1. -1.] \n",
      "vecs [[ 0.70710678 -0.70710678  0.          0.        ]\n",
      " [ 0.70710678  0.70710678  0.          0.        ]\n",
      " [ 0.          0.          0.70710678 -0.70710678]\n",
      " [ 0.          0.          0.70710678  0.70710678]] (4, 4)\n"
     ]
    }
   ],
   "source": [
    "#If we replace the link matrix with the damped, L′\n",
    "\n",
    "A = np.array([[0,1,0,0],[1,0,0,0],[0,0,0,1],[0,0,1,0]])\n",
    "B = np.array([[0,1],[1,0]])\n",
    "C = np.array([[0,1],[1,0]])\n",
    "\n",
    "vals, vecs = np.linalg.eig(A)\n",
    "print('vals',vals,'\\nvecs',vecs,vecs.shape)\n",
    "\n"
   ]
  },
  {
   "cell_type": "code",
   "execution_count": 36,
   "metadata": {},
   "outputs": [
    {
     "name": "stdout",
     "output_type": "stream",
     "text": [
      "[[ 1.5 -1. ]\n",
      " [-0.5  0.5]]\n",
      "vals [1.8660254 0.1339746] \n",
      "vecs [[ 0.9390708   0.59069049]\n",
      " [-0.34372377  0.80689822]] (2, 2)\n"
     ]
    }
   ],
   "source": [
    "B = np.array([[3/2,-1],[-1/2,1/2]])\n",
    "print(A)\n",
    "vals, vecs = np.linalg.eig(B)\n",
    "print('vals',vals,'\\nvecs',vecs,vecs.shape)"
   ]
  }
 ],
 "metadata": {
  "coursera": {
   "course_slug": "linear-algebra-machine-learning",
   "graded_item_id": "IAKuU",
   "graded_part_id": "JA4Og",
   "launcher_item_id": "Kd7ZX"
  },
  "kernelspec": {
   "display_name": "Python 3",
   "language": "python",
   "name": "python3"
  },
  "language_info": {
   "codemirror_mode": {
    "name": "ipython",
    "version": 3
   },
   "file_extension": ".py",
   "mimetype": "text/x-python",
   "name": "python",
   "nbconvert_exporter": "python",
   "pygments_lexer": "ipython3",
   "version": "3.5.2"
  },
  "varInspector": {
   "cols": {
    "lenName": 16,
    "lenType": 16,
    "lenVar": 40
   },
   "kernels_config": {
    "python": {
     "delete_cmd_postfix": "",
     "delete_cmd_prefix": "del ",
     "library": "var_list.py",
     "varRefreshCmd": "print(var_dic_list())"
    },
    "r": {
     "delete_cmd_postfix": ") ",
     "delete_cmd_prefix": "rm(",
     "library": "var_list.r",
     "varRefreshCmd": "cat(var_dic_list()) "
    }
   },
   "types_to_exclude": [
    "module",
    "function",
    "builtin_function_or_method",
    "instance",
    "_Feature"
   ],
   "window_display": false
  }
 },
 "nbformat": 4,
 "nbformat_minor": 1
}
