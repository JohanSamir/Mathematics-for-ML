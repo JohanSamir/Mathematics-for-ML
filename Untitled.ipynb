{
 "cells": [
  {
   "cell_type": "markdown",
   "metadata": {},
   "source": [
    "## Introduction to Linear Algebra and to Mathematics for Machine Learning"
   ]
  },
  {
   "cell_type": "code",
   "execution_count": 22,
   "metadata": {},
   "outputs": [
    {
     "name": "stdout",
     "output_type": "stream",
     "text": [
      "1. x: [1. 2.]\n",
      "2. x: [11.  7.]\n",
      "3. x: [-2.33333333  0.66666667]\n",
      "4. x: [2.04782609 0.10869565]\n",
      "5. x: [ 1. -1.  2.]\n"
     ]
    },
    {
     "data": {
      "text/plain": [
       "True"
      ]
     },
     "execution_count": 22,
     "metadata": {},
     "output_type": "execute_result"
    }
   ],
   "source": [
    "a = np.array([[3,2], [2,3]])\n",
    "b = np.array([7,8])\n",
    "x = np.linalg.solve(a, b)\n",
    "print('1. x:',x)\n",
    "\n",
    "a = np.array([[9,-17], [-13,7]])\n",
    "b = np.array([-20,-94])\n",
    "x = np.linalg.solve(a, b)\n",
    "print('2. x:',x)\n",
    "\n",
    "a = np.array([[5,-2], [4,5]])\n",
    "b = np.array([-13,-6])\n",
    "x = np.linalg.solve(a, b)\n",
    "print('3. x:',x)\n",
    "\n",
    "a = np.array([[5,7], [20,-18]])\n",
    "b = np.array([11,39])\n",
    "x = np.linalg.solve(a, b)\n",
    "print('4. x:',x)\n",
    "\n",
    "a = np.array([[3,-2,1], [1,1,1],[3,-2,-1]])\n",
    "b = np.array([7,2,3])\n",
    "x = np.linalg.solve(a, b)\n",
    "print('5. x:',x)\n",
    "np.allclose(np.dot(a, x), b)"
   ]
  },
  {
   "cell_type": "markdown",
   "metadata": {},
   "source": [
    "# Exploring parameter space"
   ]
  },
  {
   "cell_type": "markdown",
   "metadata": {},
   "source": [
    "Sum of Squared Residuals, SSR"
   ]
  },
  {
   "cell_type": "markdown",
   "metadata": {},
   "source": [
    "$$y = \\frac { 1 } { \\sigma \\sqrt { 2 \\pi } } e ^ { - \\frac { ( x - \\mu ) ^ { 2 } } { 2 \\sigma ^ { 2 } } }$$\n",
    "$$\\mu = Mean$$\n",
    "$$\\sigma = Standard Deviation$$\n",
    "$$\\pi \\approx 3.14159 \\cdots$$\n",
    "$$ e \\approx 2.71828 \\cdots$$"
   ]
  },
  {
   "cell_type": "code",
   "execution_count": 12,
   "metadata": {},
   "outputs": [
    {
     "name": "stdout",
     "output_type": "stream",
     "text": [
      "x: 400  y: 400\n"
     ]
    },
    {
     "data": {
      "image/png": "[encoded data removed]",
      "text/plain": [
       "<matplotlib.figure.Figure at 0x7f2de8c587f0>"
      ]
     },
     "metadata": {},
     "output_type": "display_data"
    }
   ],
   "source": [
    "# Play with values of μ and σ to find the best fit.\n",
    "import random\n",
    "import numpy as np\n",
    "import matplotlib.pyplot as plt\n",
    "\n",
    "# loc : Mean (“centre”) of the distribution.\n",
    "# scale : Standard deviation (spread or “width”) of the distribution\n",
    "x = [random.gauss(3,1) for _ in range(400)] \n",
    "y = [random.gauss(4,2) for _ in range(400)]\n",
    "print ('x:',len(x),' y:',len(y))\n",
    "bins = np.linspace(-5, 10, 100) # start, stop, num=5 (Number of samples to generate.)\n",
    "\n",
    "plt.hist(x, bins, alpha=0.6, label='x')\n",
    "plt.hist(y, bins, alpha=0.7, label='y')\n",
    "plt.legend(loc='upper right')\n",
    "plt.grid(True)\n",
    "plt.show()"
   ]
  },
  {
   "cell_type": "markdown",
   "metadata": {},
   "source": [
    "\n",
    "\n",
    "\n",
    "$$\\vec { u } \\cdot \\vec { u } = | \\vec { u } | \\cdot | \\vec { \\mu } | \\cdot \\cos 0 ^ { \\circ } = | \\vec { u } | ^ { 2 }$$\n",
    "$$| \\vec { u } | =  \\sqrt { \\vec { u } \\cdot \\vec { u } } =  \\sqrt { x ^ { 2 } + y ^ { 2 } }$$"
   ]
  },
  {
   "cell_type": "code",
   "execution_count": null,
   "metadata": {},
   "outputs": [],
   "source": [
    "\n",
    "mag = np.sqrt(x.dot(x))"
   ]
  },
  {
   "cell_type": "markdown",
   "metadata": {},
   "source": [
    "These are distances between points and the angles between lines or vectors, which satisfy certain conditions, which makes a set of points a Euclidean space. The natural way to obtain these quantities is by introducing and using the standard inner product (also known as the dot product). The **inner product of any two real n-vectors x and y is defined by**:   \n",
    "\n",
    "$$\\mathbf { x } \\cdot \\mathbf { y } = \\sum _ { i = 1 } ^ { n } x _ { i } y _ { i } = x _ { 1 } y _ { 1 } + x _ { 2 } y _ { 2 } + \\cdots + x _ { n } y _ { n }$$\n",
    "\n",
    "**The result is always a real number**\n",
    "\n",
    "The **inner product of x with itself** is always non-negative. This product allows us to **define the \"length\" of a vector x** through square root: \n",
    "\n",
    "$$\\| \\mathbf { x } \\| = \\sqrt { \\mathbf { x } \\cdot \\mathbf { x } } = \\sqrt { \\sum _ { i = 1 } ^ { n } x _ { i } ^ { 2 } }$$\n",
    "\n",
    "Finally, one can use the norm to define a metric (or distance function)\n",
    "\n",
    "$$d ( \\mathbf { x } , \\mathbf { y } ) = \\| \\mathbf { x } - \\mathbf { y } \\| = \\sqrt { \\sum _ { i = 1 } ^ { n } \\left( x _ { i } - y _ { i } \\right) ^ { 2 } }$$\n",
    "\n",
    "This **distance function is called the Euclidean metric**."
   ]
  },
  {
   "cell_type": "code",
   "execution_count": 22,
   "metadata": {},
   "outputs": [
    {
     "name": "stdout",
     "output_type": "stream",
     "text": [
      "X:  [2 4 6 8] Y:  [1 3 5 7]\n",
      "inner product: 100\n",
      "norm 10.954451150103322\n",
      "dist 2.23606797749979\n"
     ]
    }
   ],
   "source": [
    "X = np.array([2,4,6,8])\n",
    "Y = np.array([1,3,5,7])\n",
    "X_d = np.array([2,4])\n",
    "Y_d = np.array([1,6])\n",
    "\n",
    "print('X: ',X,'Y: ',Y)\n",
    "inner_product = np.dot(X, Y)\n",
    "print ('inner product:',inner_product)\n",
    "norm = np.linalg.norm(X)\n",
    "print('norm',norm)\n",
    "dist = np.linalg.norm(X_d - Y_d)\n",
    "print('dist',dist)"
   ]
  },
  {
   "cell_type": "markdown",
   "metadata": {},
   "source": [
    "Cosine rule:\n",
    "$$a ^ { 2 } = b ^ { 2 } + c ^ { 2 } - 2 b c \\cos ( A )$$   \n",
    "$$| r- s| ^ { 2 } = | r | ^ { 2 } + | s | ^ { 2 } - 2 |r ||s|\\cos \\theta$$       \n",
    "$$\\begin{aligned} | r- s| ^ { 2 } = ( r - s ) ( r - s ) & = r\\cdot r - s r - s r + s\\cdot s \\\\ & = | r | ^ { 2 } - 2s r + | s | ^ { 2 } \\end{aligned}$$   \n",
    "$$- 2s\\cdot r = - 2 | r |s | \\cos \\theta$$   \n",
    "$$\\cos \\theta = \\frac {  s \\cdot r } { | s||r| }$$   \n",
    "$$\\cos(90) = 0 \\quad \\cos(0) = 1 \\quad \\cos(180) = -1 $$\n",
    "\n",
    "It is important taking into account these tree concepts: \n",
    "1. Scalar projection \n",
    "$$\\frac { a \\cdot b } { | a | | b | } = \\cos \\theta$$\n",
    "2. Unit vector  (A unit vector in a normed vector space is a vector (often a spatial vector) of length 1)\n",
    "$$\\hat { \\mathbf { u } } = \\frac { \\mathbf { u } } { | \\mathbf { u } | }$$\n",
    "3. Vector projection"
   ]
  },
  {
   "cell_type": "code",
   "execution_count": null,
   "metadata": {},
   "outputs": [],
   "source": []
  }
 ],
 "metadata": {
  "kernelspec": {
   "display_name": "Python 3",
   "language": "python",
   "name": "python3"
  },
  "language_info": {
   "codemirror_mode": {
    "name": "ipython",
    "version": 3
   },
   "file_extension": ".py",
   "mimetype": "text/x-python",
   "name": "python",
   "nbconvert_exporter": "python",
   "pygments_lexer": "ipython3",
   "version": "3.5.2"
  },
  "varInspector": {
   "cols": {
    "lenName": 16,
    "lenType": 16,
    "lenVar": 40
   },
   "kernels_config": {
    "python": {
     "delete_cmd_postfix": "",
     "delete_cmd_prefix": "del ",
     "library": "var_list.py",
     "varRefreshCmd": "print(var_dic_list())"
    },
    "r": {
     "delete_cmd_postfix": ") ",
     "delete_cmd_prefix": "rm(",
     "library": "var_list.r",
     "varRefreshCmd": "cat(var_dic_list()) "
    }
   },
   "types_to_exclude": [
    "module",
    "function",
    "builtin_function_or_method",
    "instance",
    "_Feature"
   ],
   "window_display": false
  }
 },
 "nbformat": 4,
 "nbformat_minor": 2
}
