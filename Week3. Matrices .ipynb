{
 "cells": [
  {
   "cell_type": "code",
   "execution_count": 1,
   "metadata": {},
   "outputs": [
    {
     "name": "stdout",
     "output_type": "stream",
     "text": [
      "B.T (2, 1)\n",
      "s [[-5.]\n",
      " [ 3.]]\n"
     ]
    }
   ],
   "source": [
    "A = np.matrix([[0.5,-1],[0,3/4]])\n",
    "B = np.matrix([-2,4])\n",
    "print ('B.T',B.T.shape)\n",
    "s = A* B.T\n",
    "print('s',s)\n"
   ]
  },
  {
   "cell_type": "code",
   "execution_count": 2,
   "metadata": {},
   "outputs": [
    {
     "name": "stdout",
     "output_type": "stream",
     "text": [
      "A [[1 0]\n",
      " [0 8]]\n",
      "B [[ 1.   0. ]\n",
      " [-0.5  1. ]]\n",
      "M [[ 1.  0.]\n",
      " [-4.  8.]]\n"
     ]
    }
   ],
   "source": [
    "A = np.matrix([[1,0],[0,8]])\n",
    "print ('A',A)\n",
    "B = np.matrix([[1,0],[-0.5,1]])\n",
    "print ('B',B)\n",
    "\n",
    "M = A*B\n",
    "print ('M',M)"
   ]
  },
  {
   "cell_type": "code",
   "execution_count": 3,
   "metadata": {},
   "outputs": [
    {
     "name": "stdout",
     "output_type": "stream",
     "text": [
      "r [ 3.  -0.5  0. ]\n"
     ]
    }
   ],
   "source": [
    "#Solving linear equations using the inverse matrix\n",
    "\n",
    "A = np.matrix([[1, 1, 3],\n",
    "     [1, 2, 4],\n",
    "     [1, 1, 2]])\n",
    "Ainv = np.linalg.inv(A)\n",
    "\n",
    "#Use this code block to solve the following linear system with numpy. Ar=s,\n",
    "A = [[4, 6, 2],\n",
    "     [3, 4, 1],\n",
    "     [2, 8, 13]]\n",
    "\n",
    "s = [9, 7,2]\n",
    "\n",
    "r = np.linalg.solve(A, s)\n",
    "print('r',r)"
   ]
  },
  {
   "cell_type": "code",
   "execution_count": 4,
   "metadata": {},
   "outputs": [
    {
     "name": "stdout",
     "output_type": "stream",
     "text": [
      "A [[ 4.  6.  2.]\n",
      " [ 3.  4.  1.]\n",
      " [ 2.  8. 13.]] B [9. 7. 2.]\n",
      "A [[ 1.   1.5  0.5]\n",
      " [ 3.   4.   1. ]\n",
      " [ 2.   8.  13. ]] B[0] 2.25\n",
      "A [[ 1.   1.5  0.5]\n",
      " [-0.   1.   1. ]\n",
      " [ 2.   8.  13. ]] B[1] -0.5\n",
      "A [[ 1.   1.5  0.5]\n",
      " [-0.   1.   1. ]\n",
      " [ 0.   0.   1. ]] B[2] 0.0\n"
     ]
    }
   ],
   "source": [
    "A = np.array([[4, 6, 2],\n",
    "     [3, 4, 1],\n",
    "     [2, 8, 13]], dtype=np.float_)\n",
    "\n",
    "B = np.array([9, 7, 2], dtype=np.float_)\n",
    "\n",
    "print ('A',A,'B',B)\n",
    "\n",
    "\n",
    "B[0] = B[0]/ A[0][0]\n",
    "A[0] = A[0]/ A[0][0]\n",
    "print ('A',A, 'B[0]',B[0])\n",
    "\n",
    "B[1] = B[1]-A[1][0]*B[0]\n",
    "A[1] = A[1]-A[1][0]*A[0]\n",
    "B[1] = B[1]/A[1][1]\n",
    "A[1] = A[1]/ A[1][1]\n",
    "\n",
    "print ('A',A, 'B[1]',B[1])\n",
    "\n",
    "\n",
    "B[2] = B[2]-A[2][0]*B[0]\n",
    "A[2] = A[2]-A[2][0]*A[0]\n",
    "B[2] = B[2]- A[2][1]*B[1]\n",
    "A[2] = A[2]- A[2][1]*A[1]\n",
    "B[2] = B[2]/ A[2][2]\n",
    "A[2] = A[2]/ A[2][2]\n",
    "\n",
    "print ('A',A, 'B[2]',B[2])"
   ]
  },
  {
   "cell_type": "markdown",
   "metadata": {
    "heading_collapsed": true
   },
   "source": [
    "# Solving linear equations using the inverse matrix"
   ]
  },
  {
   "cell_type": "code",
   "execution_count": 11,
   "metadata": {
    "code_folding": [],
    "hidden": true
   },
   "outputs": [
    {
     "name": "stdout",
     "output_type": "stream",
     "text": [
      "AA:\n",
      " [[ 4  6  2]\n",
      " [ 3  4  1]\n",
      " [ 2  8 13]]\n",
      "ss:\n",
      " [9, 7, 2]\n",
      "A1:\n",
      " [[1.  1.5 0.5]]\n",
      "A2:\n",
      " [[0. 1. 1.]]\n",
      "S2:\n",
      " -0.5\n"
     ]
    }
   ],
   "source": [
    "#You go to the shops on Monday and buy 1 apple, 1 banana, and 1 carrot; \n",
    "#the whole transaction totals €15. On Tuesday you buy 3 apples, 2 bananas,\n",
    "#1 carrot, all for €28. Then on Wednesday 2 apples, 1 banana, 2 carrots, for €23.\n",
    "\n",
    "A = [[1,1,1],\n",
    "     [3, 2, 1],\n",
    "     [2, 1, 2]]\n",
    "\n",
    "s = [15, 28, 23]\n",
    "\n",
    "AA = np.matrix([[4,6,2],[3, 4, 1],[2, 8, 13]])\n",
    "\n",
    "#AA = np.matrix([[1,3/2,1/2],\n",
    "     #[3, 4, 1],\n",
    "     #[2, 8, 13]])\n",
    "\n",
    "ss = [9, 7, 2]\n",
    "\n",
    "print('AA:\\n',AA)\n",
    "print('ss:\\n',ss)\n",
    "\n",
    "\n",
    "A1 = AA[0,:]/4 \n",
    "S1 = ss[0]/4 \n",
    "print('A1:\\n',A1)\n",
    "\n",
    "\n",
    "A2 = (AA[1,:]-3*A1)*-2\n",
    "S2 = (ss[1]-3*S1)*-2\n",
    "\n",
    "print('A2:\\n',A2)\n",
    "print('S2:\\n',S2)"
   ]
  },
  {
   "cell_type": "code",
   "execution_count": 13,
   "metadata": {
    "hidden": true
   },
   "outputs": [
    {
     "name": "stdout",
     "output_type": "stream",
     "text": [
      "x [ 3.  -0.5  0. ]\n"
     ]
    }
   ],
   "source": [
    "x = np.linalg.solve(AA, ss)\n",
    "print('x',x)"
   ]
  },
  {
   "cell_type": "markdown",
   "metadata": {
    "hidden": true
   },
   "source": [
    "In practice, for larger systems, one never solves a linear system by hand as there are software packages that can do this for you - such as numpy in Python.\n",
    "\n",
    "Use this code block to see numpy invert a matrix.\n",
    "\n",
    "You can try to invert any matrix you like. Try it out on your answers to the previous question."
   ]
  },
  {
   "cell_type": "code",
   "execution_count": 18,
   "metadata": {
    "hidden": true
   },
   "outputs": [
    {
     "name": "stdout",
     "output_type": "stream",
     "text": [
      "Ainv [[ 0. -1.  2.]\n",
      " [-2.  1.  1.]\n",
      " [ 1. -0. -1.]]\n"
     ]
    }
   ],
   "source": [
    "import numpy as np\n",
    "\n",
    "A = [[1, 1, 3],\n",
    "     [1, 2, 4],\n",
    "     [1, 1, 2]]\n",
    "Ainv = np.linalg.inv(A)\n",
    "print ('Ainv',Ainv)"
   ]
  },
  {
   "cell_type": "markdown",
   "metadata": {
    "hidden": true
   },
   "source": [
    "In general, one shouldn't calculate the inverse of a matrix unless absolutely necessary. It is more computationally efficient to solve the linear algebra system if that is all you need.\n",
    "\n",
    "Use this code block to solve the following linear system with numpy. Ar=s,"
   ]
  },
  {
   "cell_type": "code",
   "execution_count": 19,
   "metadata": {
    "hidden": true
   },
   "outputs": [
    {
     "name": "stdout",
     "output_type": "stream",
     "text": [
      "r: [ 3.  -0.5  0. ]\n"
     ]
    }
   ],
   "source": [
    "import numpy as np\n",
    "A = [[4, 6, 2],\n",
    "     [3, 4, 1],\n",
    "     [2, 8, 13]]\n",
    "\n",
    "s = [9, 7, 2]\n",
    "\n",
    "r = np.linalg.solve(A, s)\n",
    "print ('r:',r)"
   ]
  },
  {
   "cell_type": "markdown",
   "metadata": {},
   "source": [
    "# Non-square matrix multiplication\n"
   ]
  },
  {
   "cell_type": "code",
   "execution_count": 33,
   "metadata": {},
   "outputs": [
    {
     "name": "stdout",
     "output_type": "stream",
     "text": [
      "(1, 4)\n",
      "c [[30]]\n",
      "c [[ 2  4  5  6]\n",
      " [ 6 12 15 18]\n",
      " [ 4  8 10 12]\n",
      " [ 2  4  5  6]]\n"
     ]
    }
   ],
   "source": [
    "a = np.matrix([2,4,5,6])\n",
    "print(a.shape)\n",
    "b = np.matrix([1,3,2,1]).T\n",
    "c = np.dot(a,b)\n",
    "print('c',c)\n",
    "\n",
    "c1 = np.dot(b,a)\n",
    "print('c',c1)"
   ]
  },
  {
   "cell_type": "code",
   "execution_count": 39,
   "metadata": {},
   "outputs": [
    {
     "name": "stdout",
     "output_type": "stream",
     "text": [
      "(3, 2)\n",
      "c: [[ 2  2  8 -4]\n",
      " [-6  0  0  6]\n",
      " [ 0  1  4 -1]]\n",
      "(2, 2)\n",
      "c: [[1 2 3]\n",
      " [4 5 6]]\n"
     ]
    }
   ],
   "source": [
    "a = np.matrix([[2,-1],[0,3],[1,0]])\n",
    "print(a.shape)\n",
    "b = np.matrix([[0,1,4,-1],[-2,0,0,2]])\n",
    "c = np.dot(a,b)\n",
    "print('c:',c)\n",
    "\n",
    "a = np.matrix([[1,0],[0,1]])\n",
    "print(a.shape)\n",
    "b = np.matrix([[1,2,3],[4,5,6]])\n",
    "c = np.dot(a,b)\n",
    "print('c:',c)"
   ]
  }
 ],
 "metadata": {
  "kernelspec": {
   "display_name": "Python 3",
   "language": "python",
   "name": "python3"
  },
  "language_info": {
   "codemirror_mode": {
    "name": "ipython",
    "version": 3
   },
   "file_extension": ".py",
   "mimetype": "text/x-python",
   "name": "python",
   "nbconvert_exporter": "python",
   "pygments_lexer": "ipython3",
   "version": "3.5.2"
  },
  "varInspector": {
   "cols": {
    "lenName": 16,
    "lenType": 16,
    "lenVar": 40
   },
   "kernels_config": {
    "python": {
     "delete_cmd_postfix": "",
     "delete_cmd_prefix": "del ",
     "library": "var_list.py",
     "varRefreshCmd": "print(var_dic_list())"
    },
    "r": {
     "delete_cmd_postfix": ") ",
     "delete_cmd_prefix": "rm(",
     "library": "var_list.r",
     "varRefreshCmd": "cat(var_dic_list()) "
    }
   },
   "types_to_exclude": [
    "module",
    "function",
    "builtin_function_or_method",
    "instance",
    "_Feature"
   ],
   "window_display": false
  }
 },
 "nbformat": 4,
 "nbformat_minor": 2
}
