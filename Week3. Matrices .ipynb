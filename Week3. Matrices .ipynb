{
 "cells": [
  {
   "cell_type": "code",
   "execution_count": 1,
   "metadata": {},
   "outputs": [
    {
     "name": "stdout",
     "output_type": "stream",
     "text": [
      "B.T (2, 1)\n",
      "s [[-5.]\n",
      " [ 3.]]\n"
     ]
    }
   ],
   "source": [
    "A = np.matrix([[0.5,-1],[0,3/4]])\n",
    "B = np.matrix([-2,4])\n",
    "print ('B.T',B.T.shape)\n",
    "s = A* B.T\n",
    "print('s',s)\n"
   ]
  },
  {
   "cell_type": "code",
   "execution_count": 2,
   "metadata": {},
   "outputs": [
    {
     "name": "stdout",
     "output_type": "stream",
     "text": [
      "A [[1 0]\n",
      " [0 8]]\n",
      "B [[ 1.   0. ]\n",
      " [-0.5  1. ]]\n",
      "M [[ 1.  0.]\n",
      " [-4.  8.]]\n"
     ]
    }
   ],
   "source": [
    "A = np.matrix([[1,0],[0,8]])\n",
    "print ('A',A)\n",
    "B = np.matrix([[1,0],[-0.5,1]])\n",
    "print ('B',B)\n",
    "\n",
    "M = A*B\n",
    "print ('M',M)"
   ]
  },
  {
   "cell_type": "code",
   "execution_count": 3,
   "metadata": {},
   "outputs": [
    {
     "name": "stdout",
     "output_type": "stream",
     "text": [
      "r [ 3.  -0.5  0. ]\n"
     ]
    }
   ],
   "source": [
    "#Solving linear equations using the inverse matrix\n",
    "\n",
    "A = np.matrix([[1, 1, 3],\n",
    "     [1, 2, 4],\n",
    "     [1, 1, 2]])\n",
    "Ainv = np.linalg.inv(A)\n",
    "\n",
    "#Use this code block to solve the following linear system with numpy. Ar=s,\n",
    "A = [[4, 6, 2],\n",
    "     [3, 4, 1],\n",
    "     [2, 8, 13]]\n",
    "\n",
    "s = [9, 7,2]\n",
    "\n",
    "r = np.linalg.solve(A, s)\n",
    "print('r',r)"
   ]
  },
  {
   "cell_type": "code",
   "execution_count": 9,
   "metadata": {},
   "outputs": [
    {
     "name": "stdout",
     "output_type": "stream",
     "text": [
      "A [[ 4.  6.  2.]\n",
      " [ 3.  4.  1.]\n",
      " [ 2.  8. 13.]] B [9. 7. 2.]\n",
      "A [[ 1.   1.5  0.5]\n",
      " [ 3.   4.   1. ]\n",
      " [ 2.   8.  13. ]] B[0] 2.25\n",
      "A [[ 1.   1.5  0.5]\n",
      " [-0.   1.   1. ]\n",
      " [ 2.   8.  13. ]] B[1] -0.5\n",
      "A [[ 1.   1.5  0.5]\n",
      " [-0.   1.   1. ]\n",
      " [ 0.   0.   1. ]] B[2] 0.0\n"
     ]
    }
   ],
   "source": [
    "A = np.array([[4, 6, 2],\n",
    "     [3, 4, 1],\n",
    "     [2, 8, 13]], dtype=np.float_)\n",
    "\n",
    "B = np.array([9, 7, 2], dtype=np.float_)\n",
    "\n",
    "print ('A',A,'B',B)\n",
    "\n",
    "\n",
    "B[0] = B[0]/ A[0][0]\n",
    "A[0] = A[0]/ A[0][0]\n",
    "print ('A',A, 'B[0]',B[0])\n",
    "\n",
    "B[1] = B[1]-A[1][0]*B[0]\n",
    "A[1] = A[1]-A[1][0]*A[0]\n",
    "B[1] = B[1]/A[1][1]\n",
    "A[1] = A[1]/ A[1][1]\n",
    "\n",
    "print ('A',A, 'B[1]',B[1])\n",
    "\n",
    "\n",
    "B[2] = B[2]-A[2][0]*B[0]\n",
    "A[2] = A[2]-A[2][0]*A[0]\n",
    "B[2] = B[2]- A[2][1]*B[1]\n",
    "A[2] = A[2]- A[2][1]*A[1]\n",
    "B[2] = B[2]/ A[2][2]\n",
    "A[2] = A[2]/ A[2][2]\n",
    "\n",
    "print ('A',A, 'B[2]',B[2])"
   ]
  },
  {
   "cell_type": "code",
   "execution_count": null,
   "metadata": {},
   "outputs": [],
   "source": []
  }
 ],
 "metadata": {
  "kernelspec": {
   "display_name": "Python 3",
   "language": "python",
   "name": "python3"
  },
  "language_info": {
   "codemirror_mode": {
    "name": "ipython",
    "version": 3
   },
   "file_extension": ".py",
   "mimetype": "text/x-python",
   "name": "python",
   "nbconvert_exporter": "python",
   "pygments_lexer": "ipython3",
   "version": "3.5.2"
  },
  "varInspector": {
   "cols": {
    "lenName": 16,
    "lenType": 16,
    "lenVar": 40
   },
   "kernels_config": {
    "python": {
     "delete_cmd_postfix": "",
     "delete_cmd_prefix": "del ",
     "library": "var_list.py",
     "varRefreshCmd": "print(var_dic_list())"
    },
    "r": {
     "delete_cmd_postfix": ") ",
     "delete_cmd_prefix": "rm(",
     "library": "var_list.r",
     "varRefreshCmd": "cat(var_dic_list()) "
    }
   },
   "types_to_exclude": [
    "module",
    "function",
    "builtin_function_or_method",
    "instance",
    "_Feature"
   ],
   "window_display": false
  }
 },
 "nbformat": 4,
 "nbformat_minor": 2
}
